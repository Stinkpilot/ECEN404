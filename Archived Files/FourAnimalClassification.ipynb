{
 "cells": [
  {
   "cell_type": "code",
   "execution_count": 1,
   "metadata": {},
   "outputs": [
    {
     "name": "stderr",
     "output_type": "stream",
     "text": [
      "Using TensorFlow backend.\n"
     ]
    }
   ],
   "source": [
    "from keras import layers\n",
    "from keras import models\n",
    "\n",
    "model = models.Sequential()\n",
    "model.add(layers.Conv2D(64, (3, 3), activation='relu', input_shape=(150, 150, 3)))\n",
    "model.add(layers.MaxPooling2D((2, 2)))\n",
    "model.add(layers.Conv2D(128, (3, 3), activation='relu'))\n",
    "model.add(layers.MaxPooling2D((2, 2)))\n",
    "model.add(layers.Conv2D(256, (3, 3), activation='relu'))\n",
    "model.add(layers.Conv2D(256, (3, 3), activation='relu'))\n",
    "model.add(layers.MaxPooling2D((2, 2)))\n",
    "model.add(layers.Conv2D(256, (3, 3), activation='relu'))\n",
    "model.add(layers.Conv2D(256, (3, 3), activation='relu'))\n",
    "model.add(layers.MaxPooling2D((2, 2)))\n",
    "model.add(layers.Flatten())\n",
    "model.add(layers.Dropout(0.5))\n",
    "model.add(layers.Dense(512, activation='relu'))\n",
    "model.add(layers.Dense(4, activation='softmax'))"
   ]
  },
  {
   "cell_type": "code",
   "execution_count": 2,
   "metadata": {},
   "outputs": [],
   "source": [
    "from keras import optimizers\n",
    "\n",
    "model.compile(loss='categorical_crossentropy',\n",
    "              optimizer=optimizers.RMSprop(lr=1e-4),\n",
    "              metrics=['acc'])"
   ]
  },
  {
   "cell_type": "code",
   "execution_count": 3,
   "metadata": {},
   "outputs": [],
   "source": [
    "train_dir = '/Users/Josh/DeepLearningData/fourAnimalClasses/train'\n",
    "validation_dir = '/Users/Josh/DeepLearningData/fourAnimalClasses/validation'"
   ]
  },
  {
   "cell_type": "code",
   "execution_count": 4,
   "metadata": {},
   "outputs": [
    {
     "name": "stdout",
     "output_type": "stream",
     "text": [
      "Found 8000 images belonging to 4 classes.\n",
      "Found 4000 images belonging to 4 classes.\n"
     ]
    }
   ],
   "source": [
    "from keras.preprocessing.image import ImageDataGenerator\n",
    "\n",
    "train_datagen = ImageDataGenerator(\n",
    "    rescale=1./255,\n",
    "    rotation_range=40,\n",
    "    width_shift_range=0.2,\n",
    "    height_shift_range=0.2,\n",
    "    shear_range=0.2,\n",
    "    zoom_range=0.2,\n",
    "    horizontal_flip=True,)\n",
    "\n",
    "# Note that the validation data should not be augmented!\n",
    "test_datagen = ImageDataGenerator(rescale=1./255)\n",
    "\n",
    "train_generator = train_datagen.flow_from_directory(\n",
    "        # This is the target directory\n",
    "        train_dir,\n",
    "        # All images will be resized to 150x150\n",
    "        target_size=(150, 150),\n",
    "        batch_size=40,\n",
    "        # Since we use binary_crossentropy loss, we need binary labels\n",
    "        class_mode='categorical')\n",
    "\n",
    "validation_generator = test_datagen.flow_from_directory(\n",
    "        validation_dir,\n",
    "        target_size=(150, 150),\n",
    "        batch_size=40,\n",
    "        class_mode='categorical')"
   ]
  },
  {
   "cell_type": "code",
   "execution_count": 5,
   "metadata": {},
   "outputs": [
    {
     "name": "stdout",
     "output_type": "stream",
     "text": [
      "data batch shape: (40, 150, 150, 3)\n",
      "labels batch shape: (40, 4)\n"
     ]
    },
    {
     "data": {
      "text/plain": [
       "{'bears': 0, 'deer': 1, 'lynx': 2, 'wolves': 3}"
      ]
     },
     "execution_count": 5,
     "metadata": {},
     "output_type": "execute_result"
    }
   ],
   "source": [
    "for data_batch, labels_batch in train_generator:\n",
    "    print('data batch shape:', data_batch.shape)\n",
    "    print('labels batch shape:', labels_batch.shape)\n",
    "    break\n",
    "validation_generator.class_indices"
   ]
  },
  {
   "cell_type": "code",
   "execution_count": 6,
   "metadata": {},
   "outputs": [
    {
     "name": "stdout",
     "output_type": "stream",
     "text": [
      "Epoch 1/100\n",
      "150/150 [==============================] - 177s 1s/step - loss: 1.3322 - acc: 0.3495 - val_loss: 1.1904 - val_acc: 0.4713\n",
      "Epoch 2/100\n",
      "150/150 [==============================] - 169s 1s/step - loss: 1.2258 - acc: 0.4377 - val_loss: 1.2270 - val_acc: 0.4407\n",
      "Epoch 3/100\n",
      "150/150 [==============================] - 169s 1s/step - loss: 1.1761 - acc: 0.4678 - val_loss: 1.0845 - val_acc: 0.5270\n",
      "Epoch 4/100\n",
      "150/150 [==============================] - 168s 1s/step - loss: 1.1284 - acc: 0.4980 - val_loss: 1.0761 - val_acc: 0.5617\n",
      "Epoch 5/100\n",
      "150/150 [==============================] - 167s 1s/step - loss: 1.0807 - acc: 0.5342 - val_loss: 1.0714 - val_acc: 0.5353\n",
      "Epoch 6/100\n",
      "150/150 [==============================] - 167s 1s/step - loss: 1.0166 - acc: 0.5742 - val_loss: 1.0605 - val_acc: 0.5797\n",
      "Epoch 7/100\n",
      "150/150 [==============================] - 168s 1s/step - loss: 0.9997 - acc: 0.5752 - val_loss: 0.9881 - val_acc: 0.5857\n",
      "Epoch 8/100\n",
      "150/150 [==============================] - 169s 1s/step - loss: 0.9668 - acc: 0.5967 - val_loss: 0.9032 - val_acc: 0.6253\n",
      "Epoch 9/100\n",
      "150/150 [==============================] - 170s 1s/step - loss: 0.9334 - acc: 0.6133 - val_loss: 0.8478 - val_acc: 0.6467\n",
      "Epoch 10/100\n",
      "150/150 [==============================] - 164s 1s/step - loss: 0.9016 - acc: 0.6292 - val_loss: 1.0052 - val_acc: 0.5833\n",
      "Epoch 11/100\n",
      "150/150 [==============================] - 172s 1s/step - loss: 0.8804 - acc: 0.6428 - val_loss: 0.9051 - val_acc: 0.6370\n",
      "Epoch 12/100\n",
      "150/150 [==============================] - 169s 1s/step - loss: 0.8610 - acc: 0.6545 - val_loss: 1.0719 - val_acc: 0.6177\n",
      "Epoch 13/100\n",
      "150/150 [==============================] - 166s 1s/step - loss: 0.8437 - acc: 0.6570 - val_loss: 0.8892 - val_acc: 0.6157\n",
      "Epoch 14/100\n",
      "150/150 [==============================] - 168s 1s/step - loss: 0.7875 - acc: 0.6863 - val_loss: 0.7303 - val_acc: 0.7103\n",
      "Epoch 15/100\n",
      "150/150 [==============================] - 169s 1s/step - loss: 0.7740 - acc: 0.6900 - val_loss: 0.7003 - val_acc: 0.7173\n",
      "Epoch 16/100\n",
      "150/150 [==============================] - 171s 1s/step - loss: 0.7609 - acc: 0.7030 - val_loss: 0.6896 - val_acc: 0.7163\n",
      "Epoch 17/100\n",
      "150/150 [==============================] - 168s 1s/step - loss: 0.7407 - acc: 0.7122 - val_loss: 0.7597 - val_acc: 0.7167\n",
      "Epoch 18/100\n",
      "150/150 [==============================] - 165s 1s/step - loss: 0.7161 - acc: 0.7208 - val_loss: 0.6435 - val_acc: 0.7423\n",
      "Epoch 19/100\n",
      "150/150 [==============================] - 169s 1s/step - loss: 0.7028 - acc: 0.7203 - val_loss: 0.6854 - val_acc: 0.7280\n",
      "Epoch 20/100\n",
      "150/150 [==============================] - 168s 1s/step - loss: 0.6968 - acc: 0.7312 - val_loss: 0.8559 - val_acc: 0.6500\n",
      "Epoch 21/100\n",
      "150/150 [==============================] - 172s 1s/step - loss: 0.6788 - acc: 0.7332 - val_loss: 0.7670 - val_acc: 0.6967\n",
      "Epoch 22/100\n",
      "150/150 [==============================] - 167s 1s/step - loss: 0.6580 - acc: 0.7447 - val_loss: 0.7960 - val_acc: 0.6890\n",
      "Epoch 23/100\n",
      "150/150 [==============================] - 169s 1s/step - loss: 0.6435 - acc: 0.7498 - val_loss: 0.6057 - val_acc: 0.7617\n",
      "Epoch 24/100\n",
      "150/150 [==============================] - 170s 1s/step - loss: 0.6304 - acc: 0.7553 - val_loss: 0.5289 - val_acc: 0.8107\n",
      "Epoch 25/100\n",
      "150/150 [==============================] - 172s 1s/step - loss: 0.6100 - acc: 0.7615 - val_loss: 0.6120 - val_acc: 0.7677\n",
      "Epoch 26/100\n",
      "150/150 [==============================] - 174s 1s/step - loss: 0.5956 - acc: 0.7753 - val_loss: 0.5996 - val_acc: 0.7747\n",
      "Epoch 27/100\n",
      "150/150 [==============================] - 168s 1s/step - loss: 0.5975 - acc: 0.7777 - val_loss: 0.5539 - val_acc: 0.7860\n",
      "Epoch 28/100\n",
      "150/150 [==============================] - 172s 1s/step - loss: 0.5787 - acc: 0.7773 - val_loss: 0.9300 - val_acc: 0.6797\n",
      "Epoch 29/100\n",
      "150/150 [==============================] - 176s 1s/step - loss: 0.5595 - acc: 0.7890 - val_loss: 0.5896 - val_acc: 0.7827\n",
      "Epoch 30/100\n",
      "150/150 [==============================] - 169s 1s/step - loss: 0.5452 - acc: 0.7933 - val_loss: 0.5126 - val_acc: 0.8000\n",
      "Epoch 31/100\n",
      "150/150 [==============================] - 166s 1s/step - loss: 0.5409 - acc: 0.7963 - val_loss: 0.8748 - val_acc: 0.6753\n",
      "Epoch 32/100\n",
      "150/150 [==============================] - 172s 1s/step - loss: 0.5244 - acc: 0.7972 - val_loss: 0.6948 - val_acc: 0.7277\n",
      "Epoch 33/100\n",
      "150/150 [==============================] - 177s 1s/step - loss: 0.5239 - acc: 0.8027 - val_loss: 0.5202 - val_acc: 0.8123\n",
      "Epoch 34/100\n",
      "150/150 [==============================] - 172s 1s/step - loss: 0.5017 - acc: 0.8110 - val_loss: 0.6219 - val_acc: 0.7593\n",
      "Epoch 35/100\n",
      "150/150 [==============================] - 167s 1s/step - loss: 0.4924 - acc: 0.8167 - val_loss: 0.4913 - val_acc: 0.8217\n",
      "Epoch 36/100\n",
      "150/150 [==============================] - 173s 1s/step - loss: 0.4941 - acc: 0.8142 - val_loss: 0.5093 - val_acc: 0.8093\n",
      "Epoch 37/100\n",
      "150/150 [==============================] - 170s 1s/step - loss: 0.4924 - acc: 0.8153 - val_loss: 0.4466 - val_acc: 0.8390\n",
      "Epoch 38/100\n",
      "150/150 [==============================] - 169s 1s/step - loss: 0.4670 - acc: 0.8267 - val_loss: 0.4908 - val_acc: 0.8200\n",
      "Epoch 39/100\n",
      "150/150 [==============================] - 172s 1s/step - loss: 0.4642 - acc: 0.8275 - val_loss: 0.4958 - val_acc: 0.8253\n",
      "Epoch 40/100\n",
      "150/150 [==============================] - 169s 1s/step - loss: 0.4567 - acc: 0.8330 - val_loss: 0.5499 - val_acc: 0.7950\n",
      "Epoch 41/100\n",
      "150/150 [==============================] - 168s 1s/step - loss: 0.4392 - acc: 0.8430 - val_loss: 0.5639 - val_acc: 0.7897\n",
      "Epoch 42/100\n",
      "150/150 [==============================] - 169s 1s/step - loss: 0.4417 - acc: 0.8413 - val_loss: 0.5189 - val_acc: 0.8037\n",
      "Epoch 43/100\n",
      "150/150 [==============================] - 172s 1s/step - loss: 0.4427 - acc: 0.8390 - val_loss: 0.5568 - val_acc: 0.7987\n",
      "Epoch 44/100\n",
      "150/150 [==============================] - 167s 1s/step - loss: 0.4294 - acc: 0.8482 - val_loss: 0.4103 - val_acc: 0.8567\n",
      "Epoch 45/100\n",
      "150/150 [==============================] - 171s 1s/step - loss: 0.4113 - acc: 0.8447 - val_loss: 0.5324 - val_acc: 0.8110\n",
      "Epoch 46/100\n",
      "150/150 [==============================] - 169s 1s/step - loss: 0.4225 - acc: 0.8482 - val_loss: 0.6781 - val_acc: 0.7730\n",
      "Epoch 47/100\n",
      "150/150 [==============================] - 169s 1s/step - loss: 0.4055 - acc: 0.8523 - val_loss: 0.5731 - val_acc: 0.7913\n",
      "Epoch 48/100\n",
      "150/150 [==============================] - 171s 1s/step - loss: 0.4147 - acc: 0.8482 - val_loss: 0.4741 - val_acc: 0.8243\n",
      "Epoch 49/100\n",
      "150/150 [==============================] - 171s 1s/step - loss: 0.3954 - acc: 0.8592 - val_loss: 0.3860 - val_acc: 0.8610\n",
      "Epoch 50/100\n",
      "150/150 [==============================] - 170s 1s/step - loss: 0.3803 - acc: 0.8572 - val_loss: 0.4690 - val_acc: 0.8330\n",
      "Epoch 51/100\n",
      "150/150 [==============================] - 169s 1s/step - loss: 0.4104 - acc: 0.8543 - val_loss: 0.4711 - val_acc: 0.8470\n",
      "Epoch 52/100\n",
      "150/150 [==============================] - 168s 1s/step - loss: 0.3835 - acc: 0.8597 - val_loss: 0.5172 - val_acc: 0.8267\n",
      "Epoch 53/100\n",
      "150/150 [==============================] - 169s 1s/step - loss: 0.3764 - acc: 0.8638 - val_loss: 0.6217 - val_acc: 0.7680\n",
      "Epoch 54/100\n",
      "150/150 [==============================] - 168s 1s/step - loss: 0.3829 - acc: 0.8610 - val_loss: 0.4327 - val_acc: 0.8577\n",
      "Epoch 55/100\n",
      "150/150 [==============================] - 170s 1s/step - loss: 0.3678 - acc: 0.8637 - val_loss: 0.4113 - val_acc: 0.8607\n",
      "Epoch 56/100\n",
      "150/150 [==============================] - 169s 1s/step - loss: 0.3553 - acc: 0.8710 - val_loss: 0.4018 - val_acc: 0.8650\n",
      "Epoch 57/100\n",
      "150/150 [==============================] - 170s 1s/step - loss: 0.3505 - acc: 0.8722 - val_loss: 0.6150 - val_acc: 0.7810\n",
      "Epoch 58/100\n",
      "150/150 [==============================] - 167s 1s/step - loss: 0.3466 - acc: 0.8765 - val_loss: 0.5028 - val_acc: 0.8497\n",
      "Epoch 59/100\n",
      "150/150 [==============================] - 172s 1s/step - loss: 0.3494 - acc: 0.8738 - val_loss: 0.3915 - val_acc: 0.8687\n",
      "Epoch 60/100\n",
      "150/150 [==============================] - 169s 1s/step - loss: 0.3495 - acc: 0.8752 - val_loss: 0.3141 - val_acc: 0.8890\n",
      "Epoch 61/100\n",
      "150/150 [==============================] - 166s 1s/step - loss: 0.3365 - acc: 0.8785 - val_loss: 0.3428 - val_acc: 0.8853\n"
     ]
    },
    {
     "name": "stdout",
     "output_type": "stream",
     "text": [
      "Epoch 62/100\n",
      "150/150 [==============================] - 170s 1s/step - loss: 0.3375 - acc: 0.8807 - val_loss: 0.3608 - val_acc: 0.8813\n",
      "Epoch 63/100\n",
      "150/150 [==============================] - 168s 1s/step - loss: 0.3355 - acc: 0.8812 - val_loss: 0.3489 - val_acc: 0.8803\n",
      "Epoch 64/100\n",
      "150/150 [==============================] - 171s 1s/step - loss: 0.3180 - acc: 0.8847 - val_loss: 0.3656 - val_acc: 0.8813\n",
      "Epoch 65/100\n",
      "150/150 [==============================] - 168s 1s/step - loss: 0.3247 - acc: 0.8840 - val_loss: 0.7156 - val_acc: 0.8060\n",
      "Epoch 66/100\n",
      "150/150 [==============================] - 174s 1s/step - loss: 0.3201 - acc: 0.8868 - val_loss: 0.4093 - val_acc: 0.8687\n",
      "Epoch 67/100\n",
      "150/150 [==============================] - 177s 1s/step - loss: 0.3101 - acc: 0.8862 - val_loss: 0.3428 - val_acc: 0.8877\n",
      "Epoch 68/100\n",
      "150/150 [==============================] - 171s 1s/step - loss: 0.3243 - acc: 0.8880 - val_loss: 0.4101 - val_acc: 0.8680\n",
      "Epoch 69/100\n",
      "150/150 [==============================] - 172s 1s/step - loss: 0.3067 - acc: 0.8895 - val_loss: 0.3678 - val_acc: 0.8817\n",
      "Epoch 70/100\n",
      "150/150 [==============================] - 166s 1s/step - loss: 0.3126 - acc: 0.8897 - val_loss: 0.4288 - val_acc: 0.8713\n",
      "Epoch 71/100\n",
      "150/150 [==============================] - 176s 1s/step - loss: 0.2887 - acc: 0.9028 - val_loss: 0.3633 - val_acc: 0.8920\n",
      "Epoch 72/100\n",
      "150/150 [==============================] - 177s 1s/step - loss: 0.3005 - acc: 0.8970 - val_loss: 0.4701 - val_acc: 0.8530\n",
      "Epoch 73/100\n",
      "150/150 [==============================] - 165s 1s/step - loss: 0.2885 - acc: 0.8983 - val_loss: 0.4040 - val_acc: 0.8570\n",
      "Epoch 74/100\n",
      "150/150 [==============================] - 173s 1s/step - loss: 0.2843 - acc: 0.8972 - val_loss: 0.4494 - val_acc: 0.8553\n",
      "Epoch 75/100\n",
      "150/150 [==============================] - 171s 1s/step - loss: 0.2769 - acc: 0.9028 - val_loss: 0.3753 - val_acc: 0.8603\n",
      "Epoch 76/100\n",
      "150/150 [==============================] - 168s 1s/step - loss: 0.2808 - acc: 0.9012 - val_loss: 0.3034 - val_acc: 0.8967\n",
      "Epoch 77/100\n",
      "150/150 [==============================] - 168s 1s/step - loss: 0.2887 - acc: 0.8985 - val_loss: 0.3462 - val_acc: 0.8857\n",
      "Epoch 78/100\n",
      "150/150 [==============================] - 169s 1s/step - loss: 0.2719 - acc: 0.9052 - val_loss: 0.3781 - val_acc: 0.8667\n",
      "Epoch 79/100\n",
      "150/150 [==============================] - 169s 1s/step - loss: 0.2880 - acc: 0.8977 - val_loss: 0.3146 - val_acc: 0.8883\n",
      "Epoch 80/100\n",
      "150/150 [==============================] - 171s 1s/step - loss: 0.2903 - acc: 0.9068 - val_loss: 0.3044 - val_acc: 0.9017\n",
      "Epoch 81/100\n",
      "150/150 [==============================] - 168s 1s/step - loss: 0.2846 - acc: 0.8970 - val_loss: 0.3501 - val_acc: 0.8907\n",
      "Epoch 82/100\n",
      "150/150 [==============================] - 170s 1s/step - loss: 0.2733 - acc: 0.9092 - val_loss: 0.5154 - val_acc: 0.8597\n",
      "Epoch 83/100\n",
      "150/150 [==============================] - 165s 1s/step - loss: 0.2829 - acc: 0.9015 - val_loss: 0.3332 - val_acc: 0.8973\n",
      "Epoch 84/100\n",
      "150/150 [==============================] - 173s 1s/step - loss: 0.2730 - acc: 0.9055 - val_loss: 0.3498 - val_acc: 0.8860\n",
      "Epoch 85/100\n",
      "150/150 [==============================] - 170s 1s/step - loss: 0.2665 - acc: 0.9043 - val_loss: 0.3396 - val_acc: 0.9007\n",
      "Epoch 86/100\n",
      "150/150 [==============================] - 177s 1s/step - loss: 0.2835 - acc: 0.9040 - val_loss: 0.4198 - val_acc: 0.8547\n",
      "Epoch 87/100\n",
      "150/150 [==============================] - 167s 1s/step - loss: 0.2619 - acc: 0.9082 - val_loss: 0.2843 - val_acc: 0.9100\n",
      "Epoch 88/100\n",
      "150/150 [==============================] - 169s 1s/step - loss: 0.2657 - acc: 0.9093 - val_loss: 0.7354 - val_acc: 0.7847\n",
      "Epoch 89/100\n",
      "150/150 [==============================] - 167s 1s/step - loss: 0.2851 - acc: 0.9057 - val_loss: 0.3467 - val_acc: 0.8867\n",
      "Epoch 90/100\n",
      "150/150 [==============================] - 175s 1s/step - loss: 0.2513 - acc: 0.9118 - val_loss: 0.5806 - val_acc: 0.8547\n",
      "Epoch 91/100\n",
      "150/150 [==============================] - 173s 1s/step - loss: 0.2769 - acc: 0.9082 - val_loss: 0.4810 - val_acc: 0.8350\n",
      "Epoch 92/100\n",
      "150/150 [==============================] - 167s 1s/step - loss: 0.2698 - acc: 0.9083 - val_loss: 0.4355 - val_acc: 0.8687\n",
      "Epoch 93/100\n",
      "150/150 [==============================] - 171s 1s/step - loss: 0.2564 - acc: 0.9065 - val_loss: 0.5380 - val_acc: 0.8583\n",
      "Epoch 94/100\n",
      "150/150 [==============================] - 172s 1s/step - loss: 0.2634 - acc: 0.9113 - val_loss: 0.3775 - val_acc: 0.8880\n",
      "Epoch 95/100\n",
      "150/150 [==============================] - 167s 1s/step - loss: 0.2526 - acc: 0.9167 - val_loss: 0.3461 - val_acc: 0.8840\n",
      "Epoch 96/100\n",
      "150/150 [==============================] - 171s 1s/step - loss: 0.2507 - acc: 0.9183 - val_loss: 0.4113 - val_acc: 0.8737\n",
      "Epoch 97/100\n",
      "150/150 [==============================] - 169s 1s/step - loss: 0.2527 - acc: 0.9127 - val_loss: 0.4308 - val_acc: 0.8710\n",
      "Epoch 98/100\n",
      "150/150 [==============================] - 172s 1s/step - loss: 0.2611 - acc: 0.9082 - val_loss: 0.2981 - val_acc: 0.9117\n",
      "Epoch 99/100\n",
      "150/150 [==============================] - 172s 1s/step - loss: 0.2496 - acc: 0.9188 - val_loss: 0.3882 - val_acc: 0.8920\n",
      "Epoch 100/100\n",
      "150/150 [==============================] - 170s 1s/step - loss: 0.2636 - acc: 0.9085 - val_loss: 0.2576 - val_acc: 0.9297\n"
     ]
    }
   ],
   "source": [
    "history = model.fit_generator(\n",
    "      train_generator,\n",
    "      steps_per_epoch=150,\n",
    "      epochs=100,\n",
    "      validation_data=validation_generator,\n",
    "      validation_steps=75)"
   ]
  },
  {
   "cell_type": "code",
   "execution_count": 7,
   "metadata": {},
   "outputs": [],
   "source": [
    "model.save('ForestAnimals5.h5')"
   ]
  },
  {
   "cell_type": "code",
   "execution_count": 9,
   "metadata": {},
   "outputs": [
    {
     "data": {
      "image/png": "[encoded data removed]",
      "text/plain": [
       "<Figure size 432x288 with 1 Axes>"
      ]
     },
     "metadata": {
      "needs_background": "light"
     },
     "output_type": "display_data"
    },
    {
     "data": {
      "image/png": "[encoded data removed]",
      "text/plain": [
       "<Figure size 432x288 with 1 Axes>"
      ]
     },
     "metadata": {
      "needs_background": "light"
     },
     "output_type": "display_data"
    }
   ],
   "source": [
    "import matplotlib.pyplot as plt\n",
    "\n",
    "acc = history.history['acc']\n",
    "val_acc = history.history['val_acc']\n",
    "loss = history.history['loss']\n",
    "val_loss = history.history['val_loss']\n",
    "\n",
    "epochs = range(len(acc))\n",
    "\n",
    "plt.plot(epochs, acc, 'bo', label='Training acc')\n",
    "plt.plot(epochs, val_acc, 'b', label='Validation acc')\n",
    "plt.title('training and validation accuracy')\n",
    "plt.legend()\n",
    "\n",
    "plt.figure()\n",
    "\n",
    "plt.plot(epochs, loss, 'bo', label='Training loss')\n",
    "plt.plot(epochs, val_loss, 'b', label='Validation loss')\n",
    "plt.title('training and validation loss')\n",
    "plt.legend()\n",
    "\n",
    "plt.show()"
   ]
  },
  {
   "cell_type": "code",
   "execution_count": null,
   "metadata": {},
   "outputs": [],
   "source": []
  }
 ],
 "metadata": {
  "kernelspec": {
   "display_name": "Python 3",
   "language": "python",
   "name": "python3"
  },
  "language_info": {
   "codemirror_mode": {
    "name": "ipython",
    "version": 3
   },
   "file_extension": ".py",
   "mimetype": "text/x-python",
   "name": "python",
   "nbconvert_exporter": "python",
   "pygments_lexer": "ipython3",
   "version": "3.6.8"
  }
 },
 "nbformat": 4,
 "nbformat_minor": 2
}
